{
 "cells": [
  {
   "cell_type": "code",
   "execution_count": 1,
   "id": "daf0e2b5",
   "metadata": {},
   "outputs": [],
   "source": [
    "#data member: class for dat storage\n",
    "class TextboxA(object):\n",
    "    width=3 #character\n",
    "    height=20 #character\n",
    "    text=\"read more\""
   ]
  },
  {
   "cell_type": "code",
   "execution_count": 2,
   "id": "5098d4c6",
   "metadata": {},
   "outputs": [],
   "source": [
    "x = TextboxA()"
   ]
  },
  {
   "cell_type": "code",
   "execution_count": 3,
   "id": "d565aa54",
   "metadata": {},
   "outputs": [
    {
     "data": {
      "text/plain": [
       "3"
      ]
     },
     "execution_count": 3,
     "metadata": {},
     "output_type": "execute_result"
    }
   ],
   "source": [
    "x.width"
   ]
  },
  {
   "cell_type": "code",
   "execution_count": 5,
   "id": "b6e5e50f",
   "metadata": {},
   "outputs": [
    {
     "data": {
      "text/plain": [
       "20"
      ]
     },
     "execution_count": 5,
     "metadata": {},
     "output_type": "execute_result"
    }
   ],
   "source": [
    "x.height"
   ]
  },
  {
   "cell_type": "code",
   "execution_count": 7,
   "id": "981762c6",
   "metadata": {},
   "outputs": [
    {
     "data": {
      "text/plain": [
       "'read more'"
      ]
     },
     "execution_count": 7,
     "metadata": {},
     "output_type": "execute_result"
    }
   ],
   "source": [
    "x.text"
   ]
  },
  {
   "cell_type": "code",
   "execution_count": 16,
   "id": "ee14b229",
   "metadata": {},
   "outputs": [],
   "source": [
    "#data function: class for dat storage\n",
    "class TextboxB(object):\n",
    "    width=20 #character\n",
    "    height=1 #character\n",
    "    text=\"read more\"\n",
    "    \n",
    "    def size(self):\n",
    "        return self.width*self.height\n",
    "    "
   ]
  },
  {
   "cell_type": "code",
   "execution_count": 17,
   "id": "bb309fa4",
   "metadata": {},
   "outputs": [
    {
     "data": {
      "text/plain": [
       "20"
      ]
     },
     "execution_count": 17,
     "metadata": {},
     "output_type": "execute_result"
    }
   ],
   "source": [
    "x=TextboxB()\n",
    "x.size()"
   ]
  },
  {
   "cell_type": "code",
   "execution_count": 32,
   "id": "080f9ac6",
   "metadata": {},
   "outputs": [],
   "source": [
    "#data function: class for dat storage\n",
    "class TextboxC(object):\n",
    "    width=20 #character\n",
    "    height=1 #character\n",
    "    text=\"read more\"\n",
    "    \n",
    "    def size(self):\n",
    "        return self.width*self.height\n",
    "    \n",
    "    def render(self):\n",
    "        margin=(self.width - len(self.text)) //2\n",
    "        print(\"^\" * self.width)\n",
    "        print(\" \" * margin + self.text)\n",
    "        print(\".\" * self.width)"
   ]
  },
  {
   "cell_type": "code",
   "execution_count": 40,
   "id": "a14cd062",
   "metadata": {},
   "outputs": [
    {
     "data": {
      "text/plain": [
       "5"
      ]
     },
     "execution_count": 40,
     "metadata": {},
     "output_type": "execute_result"
    }
   ],
   "source": [
    "x = TextboxC()\n",
    "(x.width - len(x.text)) //2"
   ]
  },
  {
   "cell_type": "code",
   "execution_count": 41,
   "id": "a328ef3c",
   "metadata": {},
   "outputs": [
    {
     "name": "stdout",
     "output_type": "stream",
     "text": [
      "^^^^^^^^^^^^^^^^^^^^\n",
      "     read more\n",
      "....................\n"
     ]
    }
   ],
   "source": [
    "x.render()"
   ]
  },
  {
   "cell_type": "code",
   "execution_count": 42,
   "id": "ea570f5a",
   "metadata": {},
   "outputs": [],
   "source": [
    "#data function: class for dat storage\n",
    "class TextboxD(object):\n",
    "    width=20 #character\n",
    "    height=1 #character\n",
    "    text=\"read more\"\n",
    "    def __init__(self,text=\"empty\"):\n",
    "        self.text=text\n",
    "        self.width=len(text)+5*2\n",
    "        self.heiht=3\n",
    "    \n",
    "    def size(self):\n",
    "        return self.width*self.height\n",
    "    \n",
    "    def render(self):\n",
    "        margin=(self.width - len(self.text)) //2\n",
    "        print(\"^\" * self.width)\n",
    "        print(\" \" * margin + self.text)\n",
    "        print(\".\" * self.width)"
   ]
  },
  {
   "cell_type": "code",
   "execution_count": 45,
   "id": "e16ccb62",
   "metadata": {},
   "outputs": [
    {
     "name": "stdout",
     "output_type": "stream",
     "text": [
      "^^^^^^^^^^^^^^^^^^^^^^^^^^^^^^^^\n",
      "     Hello world my firends\n",
      "................................\n"
     ]
    }
   ],
   "source": [
    "x = TextboxD(\"Hello world my firends\")\n",
    "x.render()"
   ]
  },
  {
   "cell_type": "code",
   "execution_count": 53,
   "id": "9fb9ef21",
   "metadata": {},
   "outputs": [],
   "source": [
    "#data function: class for dat storage\n",
    "class TextboxE(object):\n",
    "    width=20 #character\n",
    "    height=1 #character\n",
    "    text=\"read more\"\n",
    "    def __init__(self,text=\"empty\"):\n",
    "        self.text=text\n",
    "        str_list=text.split(\"\\n\")\n",
    "        longest_str=max(map(len,str_list))\n",
    "        self.width=longest_str+5*2\n",
    "        self.heiht=len(str_list)\n",
    "    \n",
    "    def size(self):\n",
    "        return self.width*self.height\n",
    "    \n",
    "    def render(self):\n",
    "        print(\"^\" * self.width)\n",
    "        str_list=self.text.split(\"\\n\")\n",
    "        for i in str_list:\n",
    "            margin=(self.width-len(i))//2\n",
    "            print(\" \" * margin + i)\n",
    "        print(\".\" * self.width)        "
   ]
  },
  {
   "cell_type": "code",
   "execution_count": 54,
   "id": "35d8b461",
   "metadata": {},
   "outputs": [
    {
     "name": "stdout",
     "output_type": "stream",
     "text": [
      "^^^^^^^^^^^^^^^\n",
      "     hello\n",
      "     world\n",
      "...............\n"
     ]
    }
   ],
   "source": [
    "x=TextboxE(\"hello\\nworld\")\n",
    "x.render()"
   ]
  },
  {
   "cell_type": "code",
   "execution_count": 55,
   "id": "8612ce0d",
   "metadata": {},
   "outputs": [
    {
     "name": "stdout",
     "output_type": "stream",
     "text": [
      "<__main__.TextboxE object at 0x7f7f2cf37320>\n"
     ]
    }
   ],
   "source": [
    "print(x)"
   ]
  },
  {
   "cell_type": "markdown",
   "id": "0a13d145",
   "metadata": {},
   "source": [
    "### \"__str__\""
   ]
  },
  {
   "cell_type": "code",
   "execution_count": 56,
   "id": "56513745",
   "metadata": {},
   "outputs": [
    {
     "name": "stdout",
     "output_type": "stream",
     "text": [
      "<__main__.C object at 0x7f7f2cf37080>\n"
     ]
    }
   ],
   "source": [
    "class C(object):\n",
    "    width=3\n",
    "    height=5\n",
    "x = C()\n",
    "print(x)"
   ]
  },
  {
   "cell_type": "code",
   "execution_count": 59,
   "id": "59d68d34",
   "metadata": {},
   "outputs": [
    {
     "name": "stdout",
     "output_type": "stream",
     "text": [
      "width: 3 , height: 5\n"
     ]
    }
   ],
   "source": [
    "class D(object):\n",
    "    width = 3\n",
    "    height =5 \n",
    "    def __str__(self):\n",
    "        return \"width: %s , height: %s\"%(self.width,self.height)\n",
    "    \n",
    "    \n",
    "x = D()\n",
    "print(x)"
   ]
  }
 ],
 "metadata": {
  "kernelspec": {
   "display_name": "Python 3",
   "language": "python",
   "name": "python3"
  },
  "language_info": {
   "codemirror_mode": {
    "name": "ipython",
    "version": 3
   },
   "file_extension": ".py",
   "mimetype": "text/x-python",
   "name": "python",
   "nbconvert_exporter": "python",
   "pygments_lexer": "ipython3",
   "version": "3.6.13"
  }
 },
 "nbformat": 4,
 "nbformat_minor": 5
}
