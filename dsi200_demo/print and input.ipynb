{
 "cells": [
  {
   "cell_type": "code",
   "execution_count": 2,
   "id": "092c95e1",
   "metadata": {},
   "outputs": [
    {
     "name": "stdout",
     "output_type": "stream",
     "text": [
      "please enter value of y :8.3\n",
      "y is 8.3\n"
     ]
    }
   ],
   "source": [
    "y=input(\"please enter value of y :\")\n",
    "print(\"y is %s\"%(y))"
   ]
  },
  {
   "cell_type": "code",
   "execution_count": 6,
   "id": "bfc771d0",
   "metadata": {},
   "outputs": [
    {
     "name": "stdout",
     "output_type": "stream",
     "text": [
      "Please enter name:wasit\n",
      "wasit number is 224\n"
     ]
    }
   ],
   "source": [
    "x={\n",
    "    'wasit':224,\n",
    "    'ekwan':225,\n",
    "    'bob':226,\n",
    "    'john':227\n",
    "}\n",
    "name = input(\"Please enter name:\")\n",
    "number=x.get(name,'not found')\n",
    "print('{} number is {}'.format(name,number))"
   ]
  },
  {
   "cell_type": "code",
   "execution_count": null,
   "id": "33ec5915",
   "metadata": {},
   "outputs": [],
   "source": []
  }
 ],
 "metadata": {
  "kernelspec": {
   "display_name": "Python 3",
   "language": "python",
   "name": "python3"
  },
  "language_info": {
   "codemirror_mode": {
    "name": "ipython",
    "version": 3
   },
   "file_extension": ".py",
   "mimetype": "text/x-python",
   "name": "python",
   "nbconvert_exporter": "python",
   "pygments_lexer": "ipython3",
   "version": "3.6.13"
  }
 },
 "nbformat": 4,
 "nbformat_minor": 5
}
