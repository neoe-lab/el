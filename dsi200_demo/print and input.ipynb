{
 "cells": [
  {
   "cell_type": "code",
   "execution_count": 2,
   "id": "203e2360",
   "metadata": {},
   "outputs": [
    {
     "name": "stdout",
     "output_type": "stream",
     "text": [
      "please enter value of y :8.3\n",
      "y is 8.3\n"
     ]
    }
   ],
   "source": [
    "y=input(\"please enter value of y :\")\n",
    "print(\"y is %s\"%(y))"
   ]
  },
  {
   "cell_type": "code",
   "execution_count": 6,
   "id": "1931c949",
   "metadata": {},
   "outputs": [
    {
     "name": "stdout",
     "output_type": "stream",
     "text": [
      "Please enter name:wasit\n",
      "wasit number is 224\n"
     ]
    }
   ],
   "source": [
    "x={\n",
    "    'wasit':224,\n",
    "    'ekwan':225,\n",
    "    'bob':226,\n",
    "    'john':227\n",
    "}\n",
    "name = input(\"Please enter name:\")\n",
    "number=x.get(name,'not found')\n",
    "print('{} number is {}'.format(name,number))"
   ]
  },
  {
   "cell_type": "code",
   "execution_count": 11,
   "id": "ea7b306b",
   "metadata": {
    "scrolled": true
   },
   "outputs": [
    {
     "name": "stdout",
     "output_type": "stream",
     "text": [
      "1\n",
      "2\n",
      "3\n",
      "4\n",
      "5\n"
     ]
    }
   ],
   "source": [
    "x =[1,2,3,4,5]\n",
    "for i in x:\n",
    "    print(i)"
   ]
  },
  {
   "cell_type": "markdown",
   "id": "cfe2f368",
   "metadata": {},
   "source": [
    "### Boolean Operater"
   ]
  },
  {
   "cell_type": "code",
   "execution_count": 14,
   "id": "3ec1c3bd",
   "metadata": {},
   "outputs": [
    {
     "data": {
      "text/plain": [
       "True"
      ]
     },
     "execution_count": 14,
     "metadata": {},
     "output_type": "execute_result"
    }
   ],
   "source": [
    "1==1"
   ]
  },
  {
   "cell_type": "code",
   "execution_count": 15,
   "id": "fa02a81b",
   "metadata": {},
   "outputs": [
    {
     "data": {
      "text/plain": [
       "False"
      ]
     },
     "execution_count": 15,
     "metadata": {},
     "output_type": "execute_result"
    }
   ],
   "source": [
    "2==5"
   ]
  },
  {
   "cell_type": "code",
   "execution_count": 16,
   "id": "1515b093",
   "metadata": {},
   "outputs": [
    {
     "data": {
      "text/plain": [
       "True"
      ]
     },
     "execution_count": 16,
     "metadata": {},
     "output_type": "execute_result"
    }
   ],
   "source": [
    "2<5"
   ]
  },
  {
   "cell_type": "markdown",
   "id": "84ccf729",
   "metadata": {},
   "source": [
    "### Sring Operator"
   ]
  },
  {
   "cell_type": "code",
   "execution_count": 17,
   "id": "b80695e3",
   "metadata": {},
   "outputs": [
    {
     "data": {
      "text/plain": [
       "'HELLO'"
      ]
     },
     "execution_count": 17,
     "metadata": {},
     "output_type": "execute_result"
    }
   ],
   "source": [
    "x =\"Hello\"\n",
    "x.upper()"
   ]
  },
  {
   "cell_type": "code",
   "execution_count": 19,
   "id": "775fc00f",
   "metadata": {},
   "outputs": [
    {
     "data": {
      "text/plain": [
       "'hello'"
      ]
     },
     "execution_count": 19,
     "metadata": {},
     "output_type": "execute_result"
    }
   ],
   "source": [
    "x=\"HELLO\"\n",
    "x.lower()"
   ]
  },
  {
   "cell_type": "markdown",
   "id": "bf76d4a7",
   "metadata": {},
   "source": [
    "### split() "
   ]
  },
  {
   "cell_type": "code",
   "execution_count": 31,
   "id": "0ee45b62",
   "metadata": {},
   "outputs": [],
   "source": [
    "x=\"There are apples and bananas\""
   ]
  },
  {
   "cell_type": "code",
   "execution_count": 36,
   "id": "7f90adcf",
   "metadata": {},
   "outputs": [],
   "source": [
    "x = x.lower().split()"
   ]
  },
  {
   "cell_type": "markdown",
   "id": "f9aa5693",
   "metadata": {},
   "source": [
    "### join() "
   ]
  },
  {
   "cell_type": "code",
   "execution_count": 38,
   "id": "528f0084",
   "metadata": {},
   "outputs": [
    {
     "data": {
      "text/plain": [
       "['there', 'are', 'apples', 'and', 'bananas']"
      ]
     },
     "execution_count": 38,
     "metadata": {},
     "output_type": "execute_result"
    }
   ],
   "source": [
    "x"
   ]
  },
  {
   "cell_type": "code",
   "execution_count": 39,
   "id": "f2924c54",
   "metadata": {},
   "outputs": [
    {
     "data": {
      "text/plain": [
       "'there_are_apples_and_bananas'"
      ]
     },
     "execution_count": 39,
     "metadata": {},
     "output_type": "execute_result"
    }
   ],
   "source": [
    "\"_\".join(x)"
   ]
  },
  {
   "cell_type": "code",
   "execution_count": 40,
   "id": "62edba8c",
   "metadata": {},
   "outputs": [
    {
     "data": {
      "text/plain": [
       "'there are apples and bananas'"
      ]
     },
     "execution_count": 40,
     "metadata": {},
     "output_type": "execute_result"
    }
   ],
   "source": [
    "\" \".join(x)"
   ]
  },
  {
   "cell_type": "markdown",
   "id": "80596263",
   "metadata": {},
   "source": [
    "### wordcount"
   ]
  },
  {
   "cell_type": "code",
   "execution_count": 44,
   "id": "dd33b453",
   "metadata": {},
   "outputs": [],
   "source": [
    "x='''\n",
    "A string datatype is a datatype modeled on the idea of a format string\n",
    "String is such an important and useful dataype.\n",
    "String is implemented in nearly every programming language.\n",
    "'''"
   ]
  },
  {
   "cell_type": "code",
   "execution_count": 45,
   "id": "709f3a4f",
   "metadata": {},
   "outputs": [
    {
     "data": {
      "text/plain": [
       "'\\nA string datatype is a datatype modeled on the idea of a format string\\nString is such an important and useful dataype.\\nString is implemented in nearly every programming language.\\n'"
      ]
     },
     "execution_count": 45,
     "metadata": {},
     "output_type": "execute_result"
    }
   ],
   "source": [
    "x.lower()"
   ]
  },
  {
   "cell_type": "code",
   "execution_count": 47,
   "id": "a5789965",
   "metadata": {},
   "outputs": [],
   "source": [
    "count={}\n",
    "for i in x.lower().split():\n",
    "    count[i]=count.get(i,0)+1"
   ]
  },
  {
   "cell_type": "code",
   "execution_count": 48,
   "id": "0fc2fa26",
   "metadata": {},
   "outputs": [
    {
     "data": {
      "text/plain": [
       "{'a': 3,\n",
       " 'string': 4,\n",
       " 'datatype': 2,\n",
       " 'is': 3,\n",
       " 'modeled': 1,\n",
       " 'on': 1,\n",
       " 'the': 1,\n",
       " 'idea': 1,\n",
       " 'of': 1,\n",
       " 'format': 1,\n",
       " 'such': 1,\n",
       " 'an': 1,\n",
       " 'important': 1,\n",
       " 'and': 1,\n",
       " 'useful': 1,\n",
       " 'dataype.': 1,\n",
       " 'implemented': 1,\n",
       " 'in': 1,\n",
       " 'nearly': 1,\n",
       " 'every': 1,\n",
       " 'programming': 1,\n",
       " 'language.': 1}"
      ]
     },
     "execution_count": 48,
     "metadata": {},
     "output_type": "execute_result"
    }
   ],
   "source": [
    "count"
   ]
  },
  {
   "cell_type": "code",
   "execution_count": 49,
   "id": "ebb3b301",
   "metadata": {},
   "outputs": [
    {
     "data": {
      "text/plain": [
       "22"
      ]
     },
     "execution_count": 49,
     "metadata": {},
     "output_type": "execute_result"
    }
   ],
   "source": [
    "len(count)"
   ]
  },
  {
   "cell_type": "code",
   "execution_count": 50,
   "id": "9f9ba173",
   "metadata": {},
   "outputs": [
    {
     "data": {
      "text/plain": [
       "3"
      ]
     },
     "execution_count": 50,
     "metadata": {},
     "output_type": "execute_result"
    }
   ],
   "source": [
    "count['a']"
   ]
  },
  {
   "cell_type": "code",
   "execution_count": 60,
   "id": "f29b0178",
   "metadata": {},
   "outputs": [
    {
     "data": {
      "text/plain": [
       "['ekwan', 'eeee', 'eee', 'eeee', 'eee', '']"
      ]
     },
     "execution_count": 60,
     "metadata": {},
     "output_type": "execute_result"
    }
   ],
   "source": [
    "name = \"ekwan,eeee,eee,eeee,eee,\"\n",
    "name.split(\",\")"
   ]
  },
  {
   "cell_type": "code",
   "execution_count": 56,
   "id": "9efe1b46",
   "metadata": {},
   "outputs": [
    {
     "data": {
      "text/plain": [
       "str"
      ]
     },
     "execution_count": 56,
     "metadata": {},
     "output_type": "execute_result"
    }
   ],
   "source": [
    "type(name)"
   ]
  },
  {
   "cell_type": "code",
   "execution_count": 57,
   "id": "1f37ba1f",
   "metadata": {},
   "outputs": [
    {
     "data": {
      "text/plain": [
       "<function str.title>"
      ]
     },
     "execution_count": 57,
     "metadata": {},
     "output_type": "execute_result"
    }
   ],
   "source": [
    "name.title"
   ]
  },
  {
   "cell_type": "code",
   "execution_count": 64,
   "id": "ddc4d68d",
   "metadata": {},
   "outputs": [],
   "source": [
    "def f(x):\n",
    "    return x**2"
   ]
  },
  {
   "cell_type": "code",
   "execution_count": 65,
   "id": "56325f78",
   "metadata": {},
   "outputs": [
    {
     "data": {
      "text/plain": [
       "9"
      ]
     },
     "execution_count": 65,
     "metadata": {},
     "output_type": "execute_result"
    }
   ],
   "source": [
    "f(3)"
   ]
  },
  {
   "cell_type": "code",
   "execution_count": 66,
   "id": "2558832f",
   "metadata": {},
   "outputs": [],
   "source": [
    "def f(x=0,y=1):\n",
    "    return x**2"
   ]
  },
  {
   "cell_type": "code",
   "execution_count": 68,
   "id": "0f86df89",
   "metadata": {},
   "outputs": [],
   "source": [
    "def ff(x,y,z):\n",
    "    return (2*x,2*y,2*z)"
   ]
  },
  {
   "cell_type": "code",
   "execution_count": 69,
   "id": "cac1110a",
   "metadata": {},
   "outputs": [],
   "source": [
    "a,b,c = ff(2,3,4)"
   ]
  },
  {
   "cell_type": "code",
   "execution_count": 70,
   "id": "6e78e83f",
   "metadata": {},
   "outputs": [
    {
     "name": "stdout",
     "output_type": "stream",
     "text": [
      "a:4,b:6,c:8\n"
     ]
    }
   ],
   "source": [
    "print(\"a:{},b:{},c:{}\".format(a,b,c))"
   ]
  },
  {
   "cell_type": "code",
   "execution_count": 71,
   "id": "ff95b5db",
   "metadata": {},
   "outputs": [],
   "source": [
    "def fff(*args):\n",
    "    for i in args:\n",
    "        print(i*2)"
   ]
  },
  {
   "cell_type": "code",
   "execution_count": 73,
   "id": "f1757e73",
   "metadata": {},
   "outputs": [
    {
     "name": "stdout",
     "output_type": "stream",
     "text": [
      "aa\n",
      "bb\n",
      "cc\n",
      "2\n",
      "4\n",
      "6\n"
     ]
    }
   ],
   "source": [
    "fff('a','b','c',1,2,3)"
   ]
  },
  {
   "cell_type": "code",
   "execution_count": 74,
   "id": "5cb3ba8c",
   "metadata": {},
   "outputs": [],
   "source": [
    "def d(**kwargs):\n",
    "    for k,v in kwargs.items():\n",
    "        print(k,v)"
   ]
  },
  {
   "cell_type": "code",
   "execution_count": 75,
   "id": "4eab3121",
   "metadata": {},
   "outputs": [
    {
     "name": "stdout",
     "output_type": "stream",
     "text": [
      "a 1\n",
      "b 2\n",
      "c 4\n"
     ]
    }
   ],
   "source": [
    "d(a=1,b=2,c=4)"
   ]
  },
  {
   "cell_type": "markdown",
   "id": "4950beac",
   "metadata": {},
   "source": [
    "### Decorator"
   ]
  },
  {
   "cell_type": "code",
   "execution_count": 85,
   "id": "6f5f0272",
   "metadata": {},
   "outputs": [],
   "source": [
    "def twice(fd):\n",
    "    def warper():\n",
    "        fd()\n",
    "        fd()\n",
    "    return warper\n",
    "@twice\n",
    "def fd():\n",
    "    print('hello')"
   ]
  },
  {
   "cell_type": "code",
   "execution_count": 87,
   "id": "b6ec20ca",
   "metadata": {},
   "outputs": [
    {
     "name": "stdout",
     "output_type": "stream",
     "text": [
      "hello\n",
      "hello\n"
     ]
    }
   ],
   "source": [
    "fd()"
   ]
  },
  {
   "cell_type": "code",
   "execution_count": null,
   "id": "dc58a4eb",
   "metadata": {},
   "outputs": [],
   "source": []
  }
 ],
 "metadata": {
  "kernelspec": {
   "display_name": "Python 3",
   "language": "python",
   "name": "python3"
  },
  "language_info": {
   "codemirror_mode": {
    "name": "ipython",
    "version": 3
   },
   "file_extension": ".py",
   "mimetype": "text/x-python",
   "name": "python",
   "nbconvert_exporter": "python",
   "pygments_lexer": "ipython3",
   "version": "3.6.13"
  }
 },
 "nbformat": 4,
 "nbformat_minor": 5
}
